{
 "cells": [
  {
   "attachments": {},
   "cell_type": "markdown",
   "metadata": {},
   "source": [
    "The goal of any regression analysis is to predict data points by making a mathematical function that approximates it.      \n",
    "The equation of a linear regression is $$Y=a+bX$$\n",
    "This is exactly the same as the equation of a line, or a linear equation, the only difference is the naming convention."
   ]
  },
  {
   "attachments": {},
   "cell_type": "markdown",
   "metadata": {},
   "source": [
    "Before getting into using the equation on this data set, first, take in the data. In this case it's in `co2emissions.csv`. This has several locations yearly carbon emissions from 2015-2020."
   ]
  },
  {
   "cell_type": "code",
   "execution_count": 2,
   "metadata": {},
   "outputs": [
    {
     "data": {
      "text/html": [
       "<div>\n",
       "<style scoped>\n",
       "    .dataframe tbody tr th:only-of-type {\n",
       "        vertical-align: middle;\n",
       "    }\n",
       "\n",
       "    .dataframe tbody tr th {\n",
       "        vertical-align: top;\n",
       "    }\n",
       "\n",
       "    .dataframe thead th {\n",
       "        text-align: right;\n",
       "    }\n",
       "</style>\n",
       "<table border=\"1\" class=\"dataframe\">\n",
       "  <thead>\n",
       "    <tr style=\"text-align: right;\">\n",
       "      <th></th>\n",
       "      <th>OrganisationLabel</th>\n",
       "      <th>OrganisationURI</th>\n",
       "      <th>PublishedDate</th>\n",
       "      <th>DurationFrom</th>\n",
       "      <th>DurationTo</th>\n",
       "      <th>LatestData</th>\n",
       "      <th>ReportingPeriodType</th>\n",
       "      <th>GeoEntityName</th>\n",
       "      <th>GeoCode</th>\n",
       "      <th>GeoName</th>\n",
       "      <th>GeoURI</th>\n",
       "      <th>Year</th>\n",
       "      <th>CO2EmissionsTonnesPerPerson</th>\n",
       "    </tr>\n",
       "  </thead>\n",
       "  <tbody>\n",
       "    <tr>\n",
       "      <th>0</th>\n",
       "      <td>Lincolnshire</td>\n",
       "      <td>http://opendatacommunities.org/id/county-counc...</td>\n",
       "      <td>2022-07-01T00:00:00</td>\n",
       "      <td>2020-01-01T00:00:00</td>\n",
       "      <td>2020-12-31T23:59:59</td>\n",
       "      <td>True</td>\n",
       "      <td>Calendar Year</td>\n",
       "      <td>County</td>\n",
       "      <td>E10000019</td>\n",
       "      <td>Lincolnshire</td>\n",
       "      <td>http://statistics.data.gov.uk/doc/statistical-...</td>\n",
       "      <td>2020</td>\n",
       "      <td>4.1</td>\n",
       "    </tr>\n",
       "    <tr>\n",
       "      <th>1</th>\n",
       "      <td>Lincolnshire</td>\n",
       "      <td>http://opendatacommunities.org/id/county-counc...</td>\n",
       "      <td>2022-07-01T00:00:00</td>\n",
       "      <td>2020-01-01T00:00:00</td>\n",
       "      <td>2020-12-31T23:59:59</td>\n",
       "      <td>True</td>\n",
       "      <td>Calendar Year</td>\n",
       "      <td>District Council</td>\n",
       "      <td>E07000136</td>\n",
       "      <td>Boston</td>\n",
       "      <td>http://statistics.data.gov.uk/doc/statistical-...</td>\n",
       "      <td>2020</td>\n",
       "      <td>3.7</td>\n",
       "    </tr>\n",
       "    <tr>\n",
       "      <th>2</th>\n",
       "      <td>Lincolnshire</td>\n",
       "      <td>http://opendatacommunities.org/id/county-counc...</td>\n",
       "      <td>2022-07-01T00:00:00</td>\n",
       "      <td>2020-01-01T00:00:00</td>\n",
       "      <td>2020-12-31T23:59:59</td>\n",
       "      <td>True</td>\n",
       "      <td>Calendar Year</td>\n",
       "      <td>District Council</td>\n",
       "      <td>E07000137</td>\n",
       "      <td>East Lindsey</td>\n",
       "      <td>http://statistics.data.gov.uk/doc/statistical-...</td>\n",
       "      <td>2020</td>\n",
       "      <td>4.3</td>\n",
       "    </tr>\n",
       "    <tr>\n",
       "      <th>3</th>\n",
       "      <td>Lincolnshire</td>\n",
       "      <td>http://opendatacommunities.org/id/county-counc...</td>\n",
       "      <td>2022-07-01T00:00:00</td>\n",
       "      <td>2020-01-01T00:00:00</td>\n",
       "      <td>2020-12-31T23:59:59</td>\n",
       "      <td>True</td>\n",
       "      <td>Calendar Year</td>\n",
       "      <td>District Council</td>\n",
       "      <td>E07000138</td>\n",
       "      <td>Lincoln</td>\n",
       "      <td>http://statistics.data.gov.uk/doc/statistical-...</td>\n",
       "      <td>2020</td>\n",
       "      <td>2.8</td>\n",
       "    </tr>\n",
       "    <tr>\n",
       "      <th>4</th>\n",
       "      <td>Lincolnshire</td>\n",
       "      <td>http://opendatacommunities.org/id/county-counc...</td>\n",
       "      <td>2022-07-01T00:00:00</td>\n",
       "      <td>2020-01-01T00:00:00</td>\n",
       "      <td>2020-12-31T23:59:59</td>\n",
       "      <td>True</td>\n",
       "      <td>Calendar Year</td>\n",
       "      <td>District Council</td>\n",
       "      <td>E07000139</td>\n",
       "      <td>North Kesteven</td>\n",
       "      <td>http://statistics.data.gov.uk/doc/statistical-...</td>\n",
       "      <td>2020</td>\n",
       "      <td>4.2</td>\n",
       "    </tr>\n",
       "  </tbody>\n",
       "</table>\n",
       "</div>"
      ],
      "text/plain": [
       "  OrganisationLabel                                    OrganisationURI  \\\n",
       "0      Lincolnshire  http://opendatacommunities.org/id/county-counc...   \n",
       "1      Lincolnshire  http://opendatacommunities.org/id/county-counc...   \n",
       "2      Lincolnshire  http://opendatacommunities.org/id/county-counc...   \n",
       "3      Lincolnshire  http://opendatacommunities.org/id/county-counc...   \n",
       "4      Lincolnshire  http://opendatacommunities.org/id/county-counc...   \n",
       "\n",
       "         PublishedDate         DurationFrom           DurationTo LatestData  \\\n",
       "0  2022-07-01T00:00:00  2020-01-01T00:00:00  2020-12-31T23:59:59       True   \n",
       "1  2022-07-01T00:00:00  2020-01-01T00:00:00  2020-12-31T23:59:59       True   \n",
       "2  2022-07-01T00:00:00  2020-01-01T00:00:00  2020-12-31T23:59:59       True   \n",
       "3  2022-07-01T00:00:00  2020-01-01T00:00:00  2020-12-31T23:59:59       True   \n",
       "4  2022-07-01T00:00:00  2020-01-01T00:00:00  2020-12-31T23:59:59       True   \n",
       "\n",
       "  ReportingPeriodType     GeoEntityName    GeoCode         GeoName  \\\n",
       "0       Calendar Year            County  E10000019    Lincolnshire   \n",
       "1       Calendar Year  District Council  E07000136          Boston   \n",
       "2       Calendar Year  District Council  E07000137    East Lindsey   \n",
       "3       Calendar Year  District Council  E07000138         Lincoln   \n",
       "4       Calendar Year  District Council  E07000139  North Kesteven   \n",
       "\n",
       "                                              GeoURI  Year  \\\n",
       "0  http://statistics.data.gov.uk/doc/statistical-...  2020   \n",
       "1  http://statistics.data.gov.uk/doc/statistical-...  2020   \n",
       "2  http://statistics.data.gov.uk/doc/statistical-...  2020   \n",
       "3  http://statistics.data.gov.uk/doc/statistical-...  2020   \n",
       "4  http://statistics.data.gov.uk/doc/statistical-...  2020   \n",
       "\n",
       "   CO2EmissionsTonnesPerPerson  \n",
       "0                          4.1  \n",
       "1                          3.7  \n",
       "2                          4.3  \n",
       "3                          2.8  \n",
       "4                          4.2  "
      ]
     },
     "execution_count": 2,
     "metadata": {},
     "output_type": "execute_result"
    }
   ],
   "source": [
    "import pandas as pd\n",
    "import numpy as np\n",
    "import matplotlib.pyplot as plt\n",
    "import seaborn as sns\n",
    "df = pd.read_csv(\"./data/co2emissions.csv\")\n",
    "df.head()"
   ]
  },
  {
   "attachments": {},
   "cell_type": "markdown",
   "metadata": {},
   "source": [
    "Then display the data using a dot plot. Also get a general idea of the mode of the data with a histogram."
   ]
  },
  {
   "cell_type": "code",
   "execution_count": 3,
   "metadata": {},
   "outputs": [
    {
     "data": {
      "image/png": "[encoded data removed]",
      "text/plain": [
       "<Figure size 360x360 with 1 Axes>"
      ]
     },
     "metadata": {
      "needs_background": "light"
     },
     "output_type": "display_data"
    },
    {
     "data": {
      "text/plain": [
       "<AxesSubplot:xlabel='CO2EmissionsTonnesPerPerson', ylabel='Count'>"
      ]
     },
     "execution_count": 3,
     "metadata": {},
     "output_type": "execute_result"
    },
    {
     "data": {
      "image/png": "[encoded data removed]",
      "text/plain": [
       "<Figure size 432x288 with 1 Axes>"
      ]
     },
     "metadata": {
      "needs_background": "light"
     },
     "output_type": "display_data"
    }
   ],
   "source": [
    "sns.relplot(data=df, x=\"Year\", y=\"CO2EmissionsTonnesPerPerson\")\n",
    "plt.show()\n",
    "sns.histplot(data=df[\"CO2EmissionsTonnesPerPerson\"], binwidth=0.5, kde=True)"
   ]
  },
  {
   "attachments": {},
   "cell_type": "markdown",
   "metadata": {},
   "source": [
    "Given the equation of a linear regression is\n",
    "$$Y=a+bX$$\n",
    "If the given data points satisfy the definition of a one-to-one function, then the **least squares** method can be used. If it doesn't then some other technique must be used, like gradient descent or ordinary least squares.\n",
    "$$\n",
    "a=\\frac\n",
    "{\\sum{}y-b(\\sum{}x)}\n",
    "{n}\n",
    "$$\n",
    "$$ \n",
    "b=\\frac \n",
    "{n\\sum_{}^{}xy-(\\sum_{}^{}x)(\\sum_{}^{}y)} \n",
    "{ n\\sum_{}^{}x^2-(\\sum_{}^{}x)^2}\n",
    "$$\n",
    "$R$, also known as the correlation coefficient, measures the strength and direction of the linear relationship between the dependent variable and the independent variable(s). It ranges from -1 to +1, where -1 represents a perfect negative linear relationship, +1 represents a perfect positive linear relationship, and 0 represents no linear relationship. \n",
    "\n",
    "$R^2$ is a statistical measure that represents the proportion of the variance in the dependent variable that is explained by the independent variable(s) in the linear regression model. It is calculated as the square of the correlation coefficient ($R$). $R^2$ ranges from 0 to 1, with 0 indicating that none of the variance in the dependent variable is explained by the independent variable(s), and 1 indicating that all of the variance in the dependent variable is explained.\n",
    "$$\n",
    "R=\\frac\n",
    "{n\\sum_{}^{}xy-\\sum_{}^{}x\\sum_{}^{}y}\n",
    "{\\sqrt{[n\\sum_{}^{}x^2-(\\sum_{}^{}x)^2][n\\sum_{}^{}y^2-(\\sum_{}^{}y)^2]}}\n",
    "$$   \n",
    "\n"
   ]
  },
  {
   "attachments": {},
   "cell_type": "markdown",
   "metadata": {},
   "source": [
    "To use the least squares formulas in this case, only choose one location from the data."
   ]
  },
  {
   "cell_type": "code",
   "execution_count": 4,
   "metadata": {},
   "outputs": [
    {
     "data": {
      "text/html": [
       "<div>\n",
       "<style scoped>\n",
       "    .dataframe tbody tr th:only-of-type {\n",
       "        vertical-align: middle;\n",
       "    }\n",
       "\n",
       "    .dataframe tbody tr th {\n",
       "        vertical-align: top;\n",
       "    }\n",
       "\n",
       "    .dataframe thead th {\n",
       "        text-align: right;\n",
       "    }\n",
       "</style>\n",
       "<table border=\"1\" class=\"dataframe\">\n",
       "  <thead>\n",
       "    <tr style=\"text-align: right;\">\n",
       "      <th></th>\n",
       "      <th>Year</th>\n",
       "      <th>CO2EmissionsTonnesPerPerson</th>\n",
       "    </tr>\n",
       "  </thead>\n",
       "  <tbody>\n",
       "    <tr>\n",
       "      <th>1</th>\n",
       "      <td>2020</td>\n",
       "      <td>3.7</td>\n",
       "    </tr>\n",
       "    <tr>\n",
       "      <th>9</th>\n",
       "      <td>2019</td>\n",
       "      <td>4.2</td>\n",
       "    </tr>\n",
       "    <tr>\n",
       "      <th>17</th>\n",
       "      <td>2018</td>\n",
       "      <td>4.5</td>\n",
       "    </tr>\n",
       "    <tr>\n",
       "      <th>25</th>\n",
       "      <td>2017</td>\n",
       "      <td>4.6</td>\n",
       "    </tr>\n",
       "    <tr>\n",
       "      <th>33</th>\n",
       "      <td>2016</td>\n",
       "      <td>4.8</td>\n",
       "    </tr>\n",
       "  </tbody>\n",
       "</table>\n",
       "</div>"
      ],
      "text/plain": [
       "    Year  CO2EmissionsTonnesPerPerson\n",
       "1   2020                          3.7\n",
       "9   2019                          4.2\n",
       "17  2018                          4.5\n",
       "25  2017                          4.6\n",
       "33  2016                          4.8"
      ]
     },
     "execution_count": 4,
     "metadata": {},
     "output_type": "execute_result"
    }
   ],
   "source": [
    "# only use data from boston\n",
    "df = df[df.GeoName == \"Boston\"]\n",
    "df = df[['Year','CO2EmissionsTonnesPerPerson']]\n",
    "df.head()\n"
   ]
  },
  {
   "cell_type": "code",
   "execution_count": 5,
   "metadata": {},
   "outputs": [
    {
     "data": {
      "text/plain": [
       "<seaborn.axisgrid.FacetGrid at 0x2b3fb3ba6a0>"
      ]
     },
     "execution_count": 5,
     "metadata": {},
     "output_type": "execute_result"
    },
    {
     "data": {
      "image/png": "[encoded data removed]",
      "text/plain": [
       "<Figure size 360x360 with 1 Axes>"
      ]
     },
     "metadata": {
      "needs_background": "light"
     },
     "output_type": "display_data"
    }
   ],
   "source": [
    "sns.relplot(data=df, x=\"Year\", y=\"CO2EmissionsTonnesPerPerson\")"
   ]
  },
  {
   "cell_type": "code",
   "execution_count": 6,
   "metadata": {},
   "outputs": [
    {
     "name": "stdout",
     "output_type": "stream",
     "text": [
      "Y = 546.34 + -0.27X\n",
      "R squared: 0.96\n",
      "R: -0.98\n"
     ]
    }
   ],
   "source": [
    "n, sumx, sumx_squared, sumy, sumy_squared, sumxy = 0, 0, 0, 0, 0, 0\n",
    "\n",
    "# iterate through each row\n",
    "for i in df.index:\n",
    "\tx = df[\"Year\"][i]\n",
    "\tsumx += x\n",
    "\tsumx_squared += x**2\n",
    "\ty = df[\"CO2EmissionsTonnesPerPerson\"][i]\n",
    "\tn += 1\n",
    "\tsumy += y\n",
    "\tsumy_squared += y**2\n",
    "\tsumxy += x * y\n",
    "\n",
    "# calculate the coefficients\n",
    "b = (n * sumxy - sumx * sumy) \\\n",
    "/ (n * sumx_squared - (sumx)**2)\n",
    "\n",
    "a = (sumy - b * sumx) / n\n",
    "\n",
    "R = (n * sumxy - sumx * sumy) \\\n",
    "/ ( (n*sumx_squared-sumx**2) * (n * sumy_squared - sumy**2) )**(1/2)\n",
    "\n",
    "R_squared = R**2\n",
    "print(f\"Y = {round(a, 2)} + {round(b, 2)}X\")\n",
    "print(f\"R squared: {round(R_squared, 2)}\")\n",
    "print(f\"R: {round(R, 2)}\")\n",
    "\t\t"
   ]
  },
  {
   "cell_type": "code",
   "execution_count": 7,
   "metadata": {},
   "outputs": [
    {
     "data": {
      "image/png": "[encoded data removed]",
      "text/plain": [
       "<Figure size 360x360 with 1 Axes>"
      ]
     },
     "metadata": {
      "needs_background": "light"
     },
     "output_type": "display_data"
    },
    {
     "name": "stdout",
     "output_type": "stream",
     "text": [
      "96.0% of the variation can be explained by the regression line.\n",
      "4.0% of the variation is unexplained and is due to other factors or to sampling error.\n"
     ]
    }
   ],
   "source": [
    "# plot the regression line\n",
    "reg_years=list(range(min(df[\"Year\"]), max(df[\"Year\"])+1))\n",
    "reg_emissions=[a + b*x for x in reg_years]\n",
    "\n",
    "\n",
    "sns.relplot(data=df, x=\"Year\", y=\"CO2EmissionsTonnesPerPerson\")\n",
    "\n",
    "plt.plot(reg_years, reg_emissions, \"red\", label=\"regression line\")\n",
    "plt.legend()\n",
    "plt.show()\n",
    "print(f\"{round(R_squared, 2)*100}% of the variation can be explained by the regression line.\")\n",
    "print(f\"{round(1-R_squared, 2)*100}% of the variation is unexplained and is due to other factors or to sampling error.\")"
   ]
  },
  {
   "attachments": {},
   "cell_type": "markdown",
   "metadata": {},
   "source": [
    "The $R^2$ value is high enough to tell that the linear regression method used was effective. If it was noticabley low, like 0.10, for example, another regression technique may have to be used on the data."
   ]
  }
 ],
 "metadata": {
  "kernelspec": {
   "display_name": "Python 3",
   "language": "python",
   "name": "python3"
  },
  "language_info": {
   "codemirror_mode": {
    "name": "ipython",
    "version": 3
   },
   "file_extension": ".py",
   "mimetype": "text/x-python",
   "name": "python",
   "nbconvert_exporter": "python",
   "pygments_lexer": "ipython3",
   "version": "3.9.5"
  },
  "orig_nbformat": 4
 },
 "nbformat": 4,
 "nbformat_minor": 2
}
